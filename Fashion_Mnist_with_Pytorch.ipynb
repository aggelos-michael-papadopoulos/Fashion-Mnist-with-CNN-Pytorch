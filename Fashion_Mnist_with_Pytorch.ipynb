{
  "nbformat": 4,
  "nbformat_minor": 0,
  "metadata": {
    "colab": {
      "name": "Fashion Mnist with Pytorch.ipynb",
      "provenance": [],
      "collapsed_sections": [],
      "authorship_tag": "ABX9TyNTpdND/xCr7RAgJUQZ96wH",
      "include_colab_link": true
    },
    "kernelspec": {
      "name": "python3",
      "display_name": "Python 3"
    },
    "language_info": {
      "name": "python"
    },
    "accelerator": "GPU",
    "widgets": {
      "application/vnd.jupyter.widget-state+json": {
        "659e7c939b5b460ca85bfefd8191f56d": {
          "model_module": "@jupyter-widgets/controls",
          "model_name": "HBoxModel",
          "model_module_version": "1.5.0",
          "state": {
            "_view_name": "HBoxView",
            "_dom_classes": [],
            "_model_name": "HBoxModel",
            "_view_module": "@jupyter-widgets/controls",
            "_model_module_version": "1.5.0",
            "_view_count": null,
            "_view_module_version": "1.5.0",
            "box_style": "",
            "layout": "IPY_MODEL_b7e0f1666b044305803737ef52fd9cc2",
            "_model_module": "@jupyter-widgets/controls",
            "children": [
              "IPY_MODEL_726d0a3beaff4043bb10d0b3a8c80c9f",
              "IPY_MODEL_3919b312cd3d46ff9d4098a2bd9372da",
              "IPY_MODEL_25c56a27722b47078b1d142d9f2dabaa"
            ]
          }
        },
        "b7e0f1666b044305803737ef52fd9cc2": {
          "model_module": "@jupyter-widgets/base",
          "model_name": "LayoutModel",
          "model_module_version": "1.2.0",
          "state": {
            "_view_name": "LayoutView",
            "grid_template_rows": null,
            "right": null,
            "justify_content": null,
            "_view_module": "@jupyter-widgets/base",
            "overflow": null,
            "_model_module_version": "1.2.0",
            "_view_count": null,
            "flex_flow": null,
            "width": null,
            "min_width": null,
            "border": null,
            "align_items": null,
            "bottom": null,
            "_model_module": "@jupyter-widgets/base",
            "top": null,
            "grid_column": null,
            "overflow_y": null,
            "overflow_x": null,
            "grid_auto_flow": null,
            "grid_area": null,
            "grid_template_columns": null,
            "flex": null,
            "_model_name": "LayoutModel",
            "justify_items": null,
            "grid_row": null,
            "max_height": null,
            "align_content": null,
            "visibility": null,
            "align_self": null,
            "height": null,
            "min_height": null,
            "padding": null,
            "grid_auto_rows": null,
            "grid_gap": null,
            "max_width": null,
            "order": null,
            "_view_module_version": "1.2.0",
            "grid_template_areas": null,
            "object_position": null,
            "object_fit": null,
            "grid_auto_columns": null,
            "margin": null,
            "display": null,
            "left": null
          }
        },
        "726d0a3beaff4043bb10d0b3a8c80c9f": {
          "model_module": "@jupyter-widgets/controls",
          "model_name": "HTMLModel",
          "model_module_version": "1.5.0",
          "state": {
            "_view_name": "HTMLView",
            "style": "IPY_MODEL_668625c0545d4abaa18a983abdf5cab5",
            "_dom_classes": [],
            "description": "",
            "_model_name": "HTMLModel",
            "placeholder": "​",
            "_view_module": "@jupyter-widgets/controls",
            "_model_module_version": "1.5.0",
            "value": "",
            "_view_count": null,
            "_view_module_version": "1.5.0",
            "description_tooltip": null,
            "_model_module": "@jupyter-widgets/controls",
            "layout": "IPY_MODEL_d1072bd2b41a4ffb968e2073d36d78ff"
          }
        },
        "3919b312cd3d46ff9d4098a2bd9372da": {
          "model_module": "@jupyter-widgets/controls",
          "model_name": "FloatProgressModel",
          "model_module_version": "1.5.0",
          "state": {
            "_view_name": "ProgressView",
            "style": "IPY_MODEL_436fd5072a8142989e230724bf5ce027",
            "_dom_classes": [],
            "description": "",
            "_model_name": "FloatProgressModel",
            "bar_style": "success",
            "max": 26421880,
            "_view_module": "@jupyter-widgets/controls",
            "_model_module_version": "1.5.0",
            "value": 26421880,
            "_view_count": null,
            "_view_module_version": "1.5.0",
            "orientation": "horizontal",
            "min": 0,
            "description_tooltip": null,
            "_model_module": "@jupyter-widgets/controls",
            "layout": "IPY_MODEL_1d2bdce6fb944dbeb8e2e9784da2c119"
          }
        },
        "25c56a27722b47078b1d142d9f2dabaa": {
          "model_module": "@jupyter-widgets/controls",
          "model_name": "HTMLModel",
          "model_module_version": "1.5.0",
          "state": {
            "_view_name": "HTMLView",
            "style": "IPY_MODEL_62df500e7bb64e5099cbf8b644b7ad23",
            "_dom_classes": [],
            "description": "",
            "_model_name": "HTMLModel",
            "placeholder": "​",
            "_view_module": "@jupyter-widgets/controls",
            "_model_module_version": "1.5.0",
            "value": " 26422272/? [00:01&lt;00:00, 20787429.78it/s]",
            "_view_count": null,
            "_view_module_version": "1.5.0",
            "description_tooltip": null,
            "_model_module": "@jupyter-widgets/controls",
            "layout": "IPY_MODEL_b639c809a7ca4c71a9d588bc3d4d7950"
          }
        },
        "668625c0545d4abaa18a983abdf5cab5": {
          "model_module": "@jupyter-widgets/controls",
          "model_name": "DescriptionStyleModel",
          "model_module_version": "1.5.0",
          "state": {
            "_view_name": "StyleView",
            "_model_name": "DescriptionStyleModel",
            "description_width": "",
            "_view_module": "@jupyter-widgets/base",
            "_model_module_version": "1.5.0",
            "_view_count": null,
            "_view_module_version": "1.2.0",
            "_model_module": "@jupyter-widgets/controls"
          }
        },
        "d1072bd2b41a4ffb968e2073d36d78ff": {
          "model_module": "@jupyter-widgets/base",
          "model_name": "LayoutModel",
          "model_module_version": "1.2.0",
          "state": {
            "_view_name": "LayoutView",
            "grid_template_rows": null,
            "right": null,
            "justify_content": null,
            "_view_module": "@jupyter-widgets/base",
            "overflow": null,
            "_model_module_version": "1.2.0",
            "_view_count": null,
            "flex_flow": null,
            "width": null,
            "min_width": null,
            "border": null,
            "align_items": null,
            "bottom": null,
            "_model_module": "@jupyter-widgets/base",
            "top": null,
            "grid_column": null,
            "overflow_y": null,
            "overflow_x": null,
            "grid_auto_flow": null,
            "grid_area": null,
            "grid_template_columns": null,
            "flex": null,
            "_model_name": "LayoutModel",
            "justify_items": null,
            "grid_row": null,
            "max_height": null,
            "align_content": null,
            "visibility": null,
            "align_self": null,
            "height": null,
            "min_height": null,
            "padding": null,
            "grid_auto_rows": null,
            "grid_gap": null,
            "max_width": null,
            "order": null,
            "_view_module_version": "1.2.0",
            "grid_template_areas": null,
            "object_position": null,
            "object_fit": null,
            "grid_auto_columns": null,
            "margin": null,
            "display": null,
            "left": null
          }
        },
        "436fd5072a8142989e230724bf5ce027": {
          "model_module": "@jupyter-widgets/controls",
          "model_name": "ProgressStyleModel",
          "model_module_version": "1.5.0",
          "state": {
            "_view_name": "StyleView",
            "_model_name": "ProgressStyleModel",
            "description_width": "",
            "_view_module": "@jupyter-widgets/base",
            "_model_module_version": "1.5.0",
            "_view_count": null,
            "_view_module_version": "1.2.0",
            "bar_color": null,
            "_model_module": "@jupyter-widgets/controls"
          }
        },
        "1d2bdce6fb944dbeb8e2e9784da2c119": {
          "model_module": "@jupyter-widgets/base",
          "model_name": "LayoutModel",
          "model_module_version": "1.2.0",
          "state": {
            "_view_name": "LayoutView",
            "grid_template_rows": null,
            "right": null,
            "justify_content": null,
            "_view_module": "@jupyter-widgets/base",
            "overflow": null,
            "_model_module_version": "1.2.0",
            "_view_count": null,
            "flex_flow": null,
            "width": null,
            "min_width": null,
            "border": null,
            "align_items": null,
            "bottom": null,
            "_model_module": "@jupyter-widgets/base",
            "top": null,
            "grid_column": null,
            "overflow_y": null,
            "overflow_x": null,
            "grid_auto_flow": null,
            "grid_area": null,
            "grid_template_columns": null,
            "flex": null,
            "_model_name": "LayoutModel",
            "justify_items": null,
            "grid_row": null,
            "max_height": null,
            "align_content": null,
            "visibility": null,
            "align_self": null,
            "height": null,
            "min_height": null,
            "padding": null,
            "grid_auto_rows": null,
            "grid_gap": null,
            "max_width": null,
            "order": null,
            "_view_module_version": "1.2.0",
            "grid_template_areas": null,
            "object_position": null,
            "object_fit": null,
            "grid_auto_columns": null,
            "margin": null,
            "display": null,
            "left": null
          }
        },
        "62df500e7bb64e5099cbf8b644b7ad23": {
          "model_module": "@jupyter-widgets/controls",
          "model_name": "DescriptionStyleModel",
          "model_module_version": "1.5.0",
          "state": {
            "_view_name": "StyleView",
            "_model_name": "DescriptionStyleModel",
            "description_width": "",
            "_view_module": "@jupyter-widgets/base",
            "_model_module_version": "1.5.0",
            "_view_count": null,
            "_view_module_version": "1.2.0",
            "_model_module": "@jupyter-widgets/controls"
          }
        },
        "b639c809a7ca4c71a9d588bc3d4d7950": {
          "model_module": "@jupyter-widgets/base",
          "model_name": "LayoutModel",
          "model_module_version": "1.2.0",
          "state": {
            "_view_name": "LayoutView",
            "grid_template_rows": null,
            "right": null,
            "justify_content": null,
            "_view_module": "@jupyter-widgets/base",
            "overflow": null,
            "_model_module_version": "1.2.0",
            "_view_count": null,
            "flex_flow": null,
            "width": null,
            "min_width": null,
            "border": null,
            "align_items": null,
            "bottom": null,
            "_model_module": "@jupyter-widgets/base",
            "top": null,
            "grid_column": null,
            "overflow_y": null,
            "overflow_x": null,
            "grid_auto_flow": null,
            "grid_area": null,
            "grid_template_columns": null,
            "flex": null,
            "_model_name": "LayoutModel",
            "justify_items": null,
            "grid_row": null,
            "max_height": null,
            "align_content": null,
            "visibility": null,
            "align_self": null,
            "height": null,
            "min_height": null,
            "padding": null,
            "grid_auto_rows": null,
            "grid_gap": null,
            "max_width": null,
            "order": null,
            "_view_module_version": "1.2.0",
            "grid_template_areas": null,
            "object_position": null,
            "object_fit": null,
            "grid_auto_columns": null,
            "margin": null,
            "display": null,
            "left": null
          }
        },
        "2598c0b7b95f4375b26cbca304221c32": {
          "model_module": "@jupyter-widgets/controls",
          "model_name": "HBoxModel",
          "model_module_version": "1.5.0",
          "state": {
            "_view_name": "HBoxView",
            "_dom_classes": [],
            "_model_name": "HBoxModel",
            "_view_module": "@jupyter-widgets/controls",
            "_model_module_version": "1.5.0",
            "_view_count": null,
            "_view_module_version": "1.5.0",
            "box_style": "",
            "layout": "IPY_MODEL_27f9dc5ce6394b3eb2d6d691328aadae",
            "_model_module": "@jupyter-widgets/controls",
            "children": [
              "IPY_MODEL_d5eb2fa6c4fc426283238d12cf23aeac",
              "IPY_MODEL_d3dcd309988640e497cf5689269cdba8",
              "IPY_MODEL_ea61877beacf488d8c80f4a727b6fc10"
            ]
          }
        },
        "27f9dc5ce6394b3eb2d6d691328aadae": {
          "model_module": "@jupyter-widgets/base",
          "model_name": "LayoutModel",
          "model_module_version": "1.2.0",
          "state": {
            "_view_name": "LayoutView",
            "grid_template_rows": null,
            "right": null,
            "justify_content": null,
            "_view_module": "@jupyter-widgets/base",
            "overflow": null,
            "_model_module_version": "1.2.0",
            "_view_count": null,
            "flex_flow": null,
            "width": null,
            "min_width": null,
            "border": null,
            "align_items": null,
            "bottom": null,
            "_model_module": "@jupyter-widgets/base",
            "top": null,
            "grid_column": null,
            "overflow_y": null,
            "overflow_x": null,
            "grid_auto_flow": null,
            "grid_area": null,
            "grid_template_columns": null,
            "flex": null,
            "_model_name": "LayoutModel",
            "justify_items": null,
            "grid_row": null,
            "max_height": null,
            "align_content": null,
            "visibility": null,
            "align_self": null,
            "height": null,
            "min_height": null,
            "padding": null,
            "grid_auto_rows": null,
            "grid_gap": null,
            "max_width": null,
            "order": null,
            "_view_module_version": "1.2.0",
            "grid_template_areas": null,
            "object_position": null,
            "object_fit": null,
            "grid_auto_columns": null,
            "margin": null,
            "display": null,
            "left": null
          }
        },
        "d5eb2fa6c4fc426283238d12cf23aeac": {
          "model_module": "@jupyter-widgets/controls",
          "model_name": "HTMLModel",
          "model_module_version": "1.5.0",
          "state": {
            "_view_name": "HTMLView",
            "style": "IPY_MODEL_0221df75a1d74636a928e3e0bb30e10c",
            "_dom_classes": [],
            "description": "",
            "_model_name": "HTMLModel",
            "placeholder": "​",
            "_view_module": "@jupyter-widgets/controls",
            "_model_module_version": "1.5.0",
            "value": "",
            "_view_count": null,
            "_view_module_version": "1.5.0",
            "description_tooltip": null,
            "_model_module": "@jupyter-widgets/controls",
            "layout": "IPY_MODEL_a9378abf9c2046109b74a210f4b4a407"
          }
        },
        "d3dcd309988640e497cf5689269cdba8": {
          "model_module": "@jupyter-widgets/controls",
          "model_name": "FloatProgressModel",
          "model_module_version": "1.5.0",
          "state": {
            "_view_name": "ProgressView",
            "style": "IPY_MODEL_8f117c59f24e4888ad9e740ff89aa035",
            "_dom_classes": [],
            "description": "",
            "_model_name": "FloatProgressModel",
            "bar_style": "success",
            "max": 29515,
            "_view_module": "@jupyter-widgets/controls",
            "_model_module_version": "1.5.0",
            "value": 29515,
            "_view_count": null,
            "_view_module_version": "1.5.0",
            "orientation": "horizontal",
            "min": 0,
            "description_tooltip": null,
            "_model_module": "@jupyter-widgets/controls",
            "layout": "IPY_MODEL_be886c090d254473b5ab9e1a4555d686"
          }
        },
        "ea61877beacf488d8c80f4a727b6fc10": {
          "model_module": "@jupyter-widgets/controls",
          "model_name": "HTMLModel",
          "model_module_version": "1.5.0",
          "state": {
            "_view_name": "HTMLView",
            "style": "IPY_MODEL_06fb69ad19704afdbc697b0723e29bed",
            "_dom_classes": [],
            "description": "",
            "_model_name": "HTMLModel",
            "placeholder": "​",
            "_view_module": "@jupyter-widgets/controls",
            "_model_module_version": "1.5.0",
            "value": " 29696/? [00:00&lt;00:00, 9537.14it/s]",
            "_view_count": null,
            "_view_module_version": "1.5.0",
            "description_tooltip": null,
            "_model_module": "@jupyter-widgets/controls",
            "layout": "IPY_MODEL_3eab41c8c9614e35860241534f777f62"
          }
        },
        "0221df75a1d74636a928e3e0bb30e10c": {
          "model_module": "@jupyter-widgets/controls",
          "model_name": "DescriptionStyleModel",
          "model_module_version": "1.5.0",
          "state": {
            "_view_name": "StyleView",
            "_model_name": "DescriptionStyleModel",
            "description_width": "",
            "_view_module": "@jupyter-widgets/base",
            "_model_module_version": "1.5.0",
            "_view_count": null,
            "_view_module_version": "1.2.0",
            "_model_module": "@jupyter-widgets/controls"
          }
        },
        "a9378abf9c2046109b74a210f4b4a407": {
          "model_module": "@jupyter-widgets/base",
          "model_name": "LayoutModel",
          "model_module_version": "1.2.0",
          "state": {
            "_view_name": "LayoutView",
            "grid_template_rows": null,
            "right": null,
            "justify_content": null,
            "_view_module": "@jupyter-widgets/base",
            "overflow": null,
            "_model_module_version": "1.2.0",
            "_view_count": null,
            "flex_flow": null,
            "width": null,
            "min_width": null,
            "border": null,
            "align_items": null,
            "bottom": null,
            "_model_module": "@jupyter-widgets/base",
            "top": null,
            "grid_column": null,
            "overflow_y": null,
            "overflow_x": null,
            "grid_auto_flow": null,
            "grid_area": null,
            "grid_template_columns": null,
            "flex": null,
            "_model_name": "LayoutModel",
            "justify_items": null,
            "grid_row": null,
            "max_height": null,
            "align_content": null,
            "visibility": null,
            "align_self": null,
            "height": null,
            "min_height": null,
            "padding": null,
            "grid_auto_rows": null,
            "grid_gap": null,
            "max_width": null,
            "order": null,
            "_view_module_version": "1.2.0",
            "grid_template_areas": null,
            "object_position": null,
            "object_fit": null,
            "grid_auto_columns": null,
            "margin": null,
            "display": null,
            "left": null
          }
        },
        "8f117c59f24e4888ad9e740ff89aa035": {
          "model_module": "@jupyter-widgets/controls",
          "model_name": "ProgressStyleModel",
          "model_module_version": "1.5.0",
          "state": {
            "_view_name": "StyleView",
            "_model_name": "ProgressStyleModel",
            "description_width": "",
            "_view_module": "@jupyter-widgets/base",
            "_model_module_version": "1.5.0",
            "_view_count": null,
            "_view_module_version": "1.2.0",
            "bar_color": null,
            "_model_module": "@jupyter-widgets/controls"
          }
        },
        "be886c090d254473b5ab9e1a4555d686": {
          "model_module": "@jupyter-widgets/base",
          "model_name": "LayoutModel",
          "model_module_version": "1.2.0",
          "state": {
            "_view_name": "LayoutView",
            "grid_template_rows": null,
            "right": null,
            "justify_content": null,
            "_view_module": "@jupyter-widgets/base",
            "overflow": null,
            "_model_module_version": "1.2.0",
            "_view_count": null,
            "flex_flow": null,
            "width": null,
            "min_width": null,
            "border": null,
            "align_items": null,
            "bottom": null,
            "_model_module": "@jupyter-widgets/base",
            "top": null,
            "grid_column": null,
            "overflow_y": null,
            "overflow_x": null,
            "grid_auto_flow": null,
            "grid_area": null,
            "grid_template_columns": null,
            "flex": null,
            "_model_name": "LayoutModel",
            "justify_items": null,
            "grid_row": null,
            "max_height": null,
            "align_content": null,
            "visibility": null,
            "align_self": null,
            "height": null,
            "min_height": null,
            "padding": null,
            "grid_auto_rows": null,
            "grid_gap": null,
            "max_width": null,
            "order": null,
            "_view_module_version": "1.2.0",
            "grid_template_areas": null,
            "object_position": null,
            "object_fit": null,
            "grid_auto_columns": null,
            "margin": null,
            "display": null,
            "left": null
          }
        },
        "06fb69ad19704afdbc697b0723e29bed": {
          "model_module": "@jupyter-widgets/controls",
          "model_name": "DescriptionStyleModel",
          "model_module_version": "1.5.0",
          "state": {
            "_view_name": "StyleView",
            "_model_name": "DescriptionStyleModel",
            "description_width": "",
            "_view_module": "@jupyter-widgets/base",
            "_model_module_version": "1.5.0",
            "_view_count": null,
            "_view_module_version": "1.2.0",
            "_model_module": "@jupyter-widgets/controls"
          }
        },
        "3eab41c8c9614e35860241534f777f62": {
          "model_module": "@jupyter-widgets/base",
          "model_name": "LayoutModel",
          "model_module_version": "1.2.0",
          "state": {
            "_view_name": "LayoutView",
            "grid_template_rows": null,
            "right": null,
            "justify_content": null,
            "_view_module": "@jupyter-widgets/base",
            "overflow": null,
            "_model_module_version": "1.2.0",
            "_view_count": null,
            "flex_flow": null,
            "width": null,
            "min_width": null,
            "border": null,
            "align_items": null,
            "bottom": null,
            "_model_module": "@jupyter-widgets/base",
            "top": null,
            "grid_column": null,
            "overflow_y": null,
            "overflow_x": null,
            "grid_auto_flow": null,
            "grid_area": null,
            "grid_template_columns": null,
            "flex": null,
            "_model_name": "LayoutModel",
            "justify_items": null,
            "grid_row": null,
            "max_height": null,
            "align_content": null,
            "visibility": null,
            "align_self": null,
            "height": null,
            "min_height": null,
            "padding": null,
            "grid_auto_rows": null,
            "grid_gap": null,
            "max_width": null,
            "order": null,
            "_view_module_version": "1.2.0",
            "grid_template_areas": null,
            "object_position": null,
            "object_fit": null,
            "grid_auto_columns": null,
            "margin": null,
            "display": null,
            "left": null
          }
        },
        "cdee90d117c7484a8328a9a5f72d8be8": {
          "model_module": "@jupyter-widgets/controls",
          "model_name": "HBoxModel",
          "model_module_version": "1.5.0",
          "state": {
            "_view_name": "HBoxView",
            "_dom_classes": [],
            "_model_name": "HBoxModel",
            "_view_module": "@jupyter-widgets/controls",
            "_model_module_version": "1.5.0",
            "_view_count": null,
            "_view_module_version": "1.5.0",
            "box_style": "",
            "layout": "IPY_MODEL_faca0781f37c4dbf9fa9ec13fb71c422",
            "_model_module": "@jupyter-widgets/controls",
            "children": [
              "IPY_MODEL_215970e6e82941568c34a622e1b1c620",
              "IPY_MODEL_b7c944f2ea80456aa1534d2aa771a40d",
              "IPY_MODEL_c5df9d73b47a4c50ad5d470723874ca9"
            ]
          }
        },
        "faca0781f37c4dbf9fa9ec13fb71c422": {
          "model_module": "@jupyter-widgets/base",
          "model_name": "LayoutModel",
          "model_module_version": "1.2.0",
          "state": {
            "_view_name": "LayoutView",
            "grid_template_rows": null,
            "right": null,
            "justify_content": null,
            "_view_module": "@jupyter-widgets/base",
            "overflow": null,
            "_model_module_version": "1.2.0",
            "_view_count": null,
            "flex_flow": null,
            "width": null,
            "min_width": null,
            "border": null,
            "align_items": null,
            "bottom": null,
            "_model_module": "@jupyter-widgets/base",
            "top": null,
            "grid_column": null,
            "overflow_y": null,
            "overflow_x": null,
            "grid_auto_flow": null,
            "grid_area": null,
            "grid_template_columns": null,
            "flex": null,
            "_model_name": "LayoutModel",
            "justify_items": null,
            "grid_row": null,
            "max_height": null,
            "align_content": null,
            "visibility": null,
            "align_self": null,
            "height": null,
            "min_height": null,
            "padding": null,
            "grid_auto_rows": null,
            "grid_gap": null,
            "max_width": null,
            "order": null,
            "_view_module_version": "1.2.0",
            "grid_template_areas": null,
            "object_position": null,
            "object_fit": null,
            "grid_auto_columns": null,
            "margin": null,
            "display": null,
            "left": null
          }
        },
        "215970e6e82941568c34a622e1b1c620": {
          "model_module": "@jupyter-widgets/controls",
          "model_name": "HTMLModel",
          "model_module_version": "1.5.0",
          "state": {
            "_view_name": "HTMLView",
            "style": "IPY_MODEL_2f067a5f695e477591c1204d8e678270",
            "_dom_classes": [],
            "description": "",
            "_model_name": "HTMLModel",
            "placeholder": "​",
            "_view_module": "@jupyter-widgets/controls",
            "_model_module_version": "1.5.0",
            "value": "",
            "_view_count": null,
            "_view_module_version": "1.5.0",
            "description_tooltip": null,
            "_model_module": "@jupyter-widgets/controls",
            "layout": "IPY_MODEL_8b8e4b32b2e5450ca3af0e3092fdc90b"
          }
        },
        "b7c944f2ea80456aa1534d2aa771a40d": {
          "model_module": "@jupyter-widgets/controls",
          "model_name": "FloatProgressModel",
          "model_module_version": "1.5.0",
          "state": {
            "_view_name": "ProgressView",
            "style": "IPY_MODEL_53bca34fb1e54eb7857edb9b60adc983",
            "_dom_classes": [],
            "description": "",
            "_model_name": "FloatProgressModel",
            "bar_style": "success",
            "max": 4422102,
            "_view_module": "@jupyter-widgets/controls",
            "_model_module_version": "1.5.0",
            "value": 4422102,
            "_view_count": null,
            "_view_module_version": "1.5.0",
            "orientation": "horizontal",
            "min": 0,
            "description_tooltip": null,
            "_model_module": "@jupyter-widgets/controls",
            "layout": "IPY_MODEL_5bda1f1ae29d40a88286c1f960e491de"
          }
        },
        "c5df9d73b47a4c50ad5d470723874ca9": {
          "model_module": "@jupyter-widgets/controls",
          "model_name": "HTMLModel",
          "model_module_version": "1.5.0",
          "state": {
            "_view_name": "HTMLView",
            "style": "IPY_MODEL_eb0ad9be0c6944ada4661f50bc2234bb",
            "_dom_classes": [],
            "description": "",
            "_model_name": "HTMLModel",
            "placeholder": "​",
            "_view_module": "@jupyter-widgets/controls",
            "_model_module_version": "1.5.0",
            "value": " 4422656/? [00:00&lt;00:00, 6135651.66it/s]",
            "_view_count": null,
            "_view_module_version": "1.5.0",
            "description_tooltip": null,
            "_model_module": "@jupyter-widgets/controls",
            "layout": "IPY_MODEL_24880adca2654607868a9036b8f42506"
          }
        },
        "2f067a5f695e477591c1204d8e678270": {
          "model_module": "@jupyter-widgets/controls",
          "model_name": "DescriptionStyleModel",
          "model_module_version": "1.5.0",
          "state": {
            "_view_name": "StyleView",
            "_model_name": "DescriptionStyleModel",
            "description_width": "",
            "_view_module": "@jupyter-widgets/base",
            "_model_module_version": "1.5.0",
            "_view_count": null,
            "_view_module_version": "1.2.0",
            "_model_module": "@jupyter-widgets/controls"
          }
        },
        "8b8e4b32b2e5450ca3af0e3092fdc90b": {
          "model_module": "@jupyter-widgets/base",
          "model_name": "LayoutModel",
          "model_module_version": "1.2.0",
          "state": {
            "_view_name": "LayoutView",
            "grid_template_rows": null,
            "right": null,
            "justify_content": null,
            "_view_module": "@jupyter-widgets/base",
            "overflow": null,
            "_model_module_version": "1.2.0",
            "_view_count": null,
            "flex_flow": null,
            "width": null,
            "min_width": null,
            "border": null,
            "align_items": null,
            "bottom": null,
            "_model_module": "@jupyter-widgets/base",
            "top": null,
            "grid_column": null,
            "overflow_y": null,
            "overflow_x": null,
            "grid_auto_flow": null,
            "grid_area": null,
            "grid_template_columns": null,
            "flex": null,
            "_model_name": "LayoutModel",
            "justify_items": null,
            "grid_row": null,
            "max_height": null,
            "align_content": null,
            "visibility": null,
            "align_self": null,
            "height": null,
            "min_height": null,
            "padding": null,
            "grid_auto_rows": null,
            "grid_gap": null,
            "max_width": null,
            "order": null,
            "_view_module_version": "1.2.0",
            "grid_template_areas": null,
            "object_position": null,
            "object_fit": null,
            "grid_auto_columns": null,
            "margin": null,
            "display": null,
            "left": null
          }
        },
        "53bca34fb1e54eb7857edb9b60adc983": {
          "model_module": "@jupyter-widgets/controls",
          "model_name": "ProgressStyleModel",
          "model_module_version": "1.5.0",
          "state": {
            "_view_name": "StyleView",
            "_model_name": "ProgressStyleModel",
            "description_width": "",
            "_view_module": "@jupyter-widgets/base",
            "_model_module_version": "1.5.0",
            "_view_count": null,
            "_view_module_version": "1.2.0",
            "bar_color": null,
            "_model_module": "@jupyter-widgets/controls"
          }
        },
        "5bda1f1ae29d40a88286c1f960e491de": {
          "model_module": "@jupyter-widgets/base",
          "model_name": "LayoutModel",
          "model_module_version": "1.2.0",
          "state": {
            "_view_name": "LayoutView",
            "grid_template_rows": null,
            "right": null,
            "justify_content": null,
            "_view_module": "@jupyter-widgets/base",
            "overflow": null,
            "_model_module_version": "1.2.0",
            "_view_count": null,
            "flex_flow": null,
            "width": null,
            "min_width": null,
            "border": null,
            "align_items": null,
            "bottom": null,
            "_model_module": "@jupyter-widgets/base",
            "top": null,
            "grid_column": null,
            "overflow_y": null,
            "overflow_x": null,
            "grid_auto_flow": null,
            "grid_area": null,
            "grid_template_columns": null,
            "flex": null,
            "_model_name": "LayoutModel",
            "justify_items": null,
            "grid_row": null,
            "max_height": null,
            "align_content": null,
            "visibility": null,
            "align_self": null,
            "height": null,
            "min_height": null,
            "padding": null,
            "grid_auto_rows": null,
            "grid_gap": null,
            "max_width": null,
            "order": null,
            "_view_module_version": "1.2.0",
            "grid_template_areas": null,
            "object_position": null,
            "object_fit": null,
            "grid_auto_columns": null,
            "margin": null,
            "display": null,
            "left": null
          }
        },
        "eb0ad9be0c6944ada4661f50bc2234bb": {
          "model_module": "@jupyter-widgets/controls",
          "model_name": "DescriptionStyleModel",
          "model_module_version": "1.5.0",
          "state": {
            "_view_name": "StyleView",
            "_model_name": "DescriptionStyleModel",
            "description_width": "",
            "_view_module": "@jupyter-widgets/base",
            "_model_module_version": "1.5.0",
            "_view_count": null,
            "_view_module_version": "1.2.0",
            "_model_module": "@jupyter-widgets/controls"
          }
        },
        "24880adca2654607868a9036b8f42506": {
          "model_module": "@jupyter-widgets/base",
          "model_name": "LayoutModel",
          "model_module_version": "1.2.0",
          "state": {
            "_view_name": "LayoutView",
            "grid_template_rows": null,
            "right": null,
            "justify_content": null,
            "_view_module": "@jupyter-widgets/base",
            "overflow": null,
            "_model_module_version": "1.2.0",
            "_view_count": null,
            "flex_flow": null,
            "width": null,
            "min_width": null,
            "border": null,
            "align_items": null,
            "bottom": null,
            "_model_module": "@jupyter-widgets/base",
            "top": null,
            "grid_column": null,
            "overflow_y": null,
            "overflow_x": null,
            "grid_auto_flow": null,
            "grid_area": null,
            "grid_template_columns": null,
            "flex": null,
            "_model_name": "LayoutModel",
            "justify_items": null,
            "grid_row": null,
            "max_height": null,
            "align_content": null,
            "visibility": null,
            "align_self": null,
            "height": null,
            "min_height": null,
            "padding": null,
            "grid_auto_rows": null,
            "grid_gap": null,
            "max_width": null,
            "order": null,
            "_view_module_version": "1.2.0",
            "grid_template_areas": null,
            "object_position": null,
            "object_fit": null,
            "grid_auto_columns": null,
            "margin": null,
            "display": null,
            "left": null
          }
        },
        "20e43b1904e7462989500178989e0c1f": {
          "model_module": "@jupyter-widgets/controls",
          "model_name": "HBoxModel",
          "model_module_version": "1.5.0",
          "state": {
            "_view_name": "HBoxView",
            "_dom_classes": [],
            "_model_name": "HBoxModel",
            "_view_module": "@jupyter-widgets/controls",
            "_model_module_version": "1.5.0",
            "_view_count": null,
            "_view_module_version": "1.5.0",
            "box_style": "",
            "layout": "IPY_MODEL_b268d7ccfc004eeb95d94b22b5ccd87c",
            "_model_module": "@jupyter-widgets/controls",
            "children": [
              "IPY_MODEL_6f5f38a3f29548e0b0f80874e24191a5",
              "IPY_MODEL_22fe896365514b0fbf654969d572263f",
              "IPY_MODEL_7a05f709bb7440b2b9c6ef941a970fe9"
            ]
          }
        },
        "b268d7ccfc004eeb95d94b22b5ccd87c": {
          "model_module": "@jupyter-widgets/base",
          "model_name": "LayoutModel",
          "model_module_version": "1.2.0",
          "state": {
            "_view_name": "LayoutView",
            "grid_template_rows": null,
            "right": null,
            "justify_content": null,
            "_view_module": "@jupyter-widgets/base",
            "overflow": null,
            "_model_module_version": "1.2.0",
            "_view_count": null,
            "flex_flow": null,
            "width": null,
            "min_width": null,
            "border": null,
            "align_items": null,
            "bottom": null,
            "_model_module": "@jupyter-widgets/base",
            "top": null,
            "grid_column": null,
            "overflow_y": null,
            "overflow_x": null,
            "grid_auto_flow": null,
            "grid_area": null,
            "grid_template_columns": null,
            "flex": null,
            "_model_name": "LayoutModel",
            "justify_items": null,
            "grid_row": null,
            "max_height": null,
            "align_content": null,
            "visibility": null,
            "align_self": null,
            "height": null,
            "min_height": null,
            "padding": null,
            "grid_auto_rows": null,
            "grid_gap": null,
            "max_width": null,
            "order": null,
            "_view_module_version": "1.2.0",
            "grid_template_areas": null,
            "object_position": null,
            "object_fit": null,
            "grid_auto_columns": null,
            "margin": null,
            "display": null,
            "left": null
          }
        },
        "6f5f38a3f29548e0b0f80874e24191a5": {
          "model_module": "@jupyter-widgets/controls",
          "model_name": "HTMLModel",
          "model_module_version": "1.5.0",
          "state": {
            "_view_name": "HTMLView",
            "style": "IPY_MODEL_5d595691625e4276bc8ded6530c33be3",
            "_dom_classes": [],
            "description": "",
            "_model_name": "HTMLModel",
            "placeholder": "​",
            "_view_module": "@jupyter-widgets/controls",
            "_model_module_version": "1.5.0",
            "value": "",
            "_view_count": null,
            "_view_module_version": "1.5.0",
            "description_tooltip": null,
            "_model_module": "@jupyter-widgets/controls",
            "layout": "IPY_MODEL_822e00c2af234b9ba8da51ffe623ce12"
          }
        },
        "22fe896365514b0fbf654969d572263f": {
          "model_module": "@jupyter-widgets/controls",
          "model_name": "FloatProgressModel",
          "model_module_version": "1.5.0",
          "state": {
            "_view_name": "ProgressView",
            "style": "IPY_MODEL_ef39a1168fe049a298d9b37a9944b673",
            "_dom_classes": [],
            "description": "",
            "_model_name": "FloatProgressModel",
            "bar_style": "success",
            "max": 5148,
            "_view_module": "@jupyter-widgets/controls",
            "_model_module_version": "1.5.0",
            "value": 5148,
            "_view_count": null,
            "_view_module_version": "1.5.0",
            "orientation": "horizontal",
            "min": 0,
            "description_tooltip": null,
            "_model_module": "@jupyter-widgets/controls",
            "layout": "IPY_MODEL_638d2d05f83c415281ed090de3a480b6"
          }
        },
        "7a05f709bb7440b2b9c6ef941a970fe9": {
          "model_module": "@jupyter-widgets/controls",
          "model_name": "HTMLModel",
          "model_module_version": "1.5.0",
          "state": {
            "_view_name": "HTMLView",
            "style": "IPY_MODEL_b4cfdae94e0a46cc89bf220e2c5041d8",
            "_dom_classes": [],
            "description": "",
            "_model_name": "HTMLModel",
            "placeholder": "​",
            "_view_module": "@jupyter-widgets/controls",
            "_model_module_version": "1.5.0",
            "value": " 6144/? [00:00&lt;00:00, 163104.15it/s]",
            "_view_count": null,
            "_view_module_version": "1.5.0",
            "description_tooltip": null,
            "_model_module": "@jupyter-widgets/controls",
            "layout": "IPY_MODEL_9423972d8d334ed8afd3315594a1639d"
          }
        },
        "5d595691625e4276bc8ded6530c33be3": {
          "model_module": "@jupyter-widgets/controls",
          "model_name": "DescriptionStyleModel",
          "model_module_version": "1.5.0",
          "state": {
            "_view_name": "StyleView",
            "_model_name": "DescriptionStyleModel",
            "description_width": "",
            "_view_module": "@jupyter-widgets/base",
            "_model_module_version": "1.5.0",
            "_view_count": null,
            "_view_module_version": "1.2.0",
            "_model_module": "@jupyter-widgets/controls"
          }
        },
        "822e00c2af234b9ba8da51ffe623ce12": {
          "model_module": "@jupyter-widgets/base",
          "model_name": "LayoutModel",
          "model_module_version": "1.2.0",
          "state": {
            "_view_name": "LayoutView",
            "grid_template_rows": null,
            "right": null,
            "justify_content": null,
            "_view_module": "@jupyter-widgets/base",
            "overflow": null,
            "_model_module_version": "1.2.0",
            "_view_count": null,
            "flex_flow": null,
            "width": null,
            "min_width": null,
            "border": null,
            "align_items": null,
            "bottom": null,
            "_model_module": "@jupyter-widgets/base",
            "top": null,
            "grid_column": null,
            "overflow_y": null,
            "overflow_x": null,
            "grid_auto_flow": null,
            "grid_area": null,
            "grid_template_columns": null,
            "flex": null,
            "_model_name": "LayoutModel",
            "justify_items": null,
            "grid_row": null,
            "max_height": null,
            "align_content": null,
            "visibility": null,
            "align_self": null,
            "height": null,
            "min_height": null,
            "padding": null,
            "grid_auto_rows": null,
            "grid_gap": null,
            "max_width": null,
            "order": null,
            "_view_module_version": "1.2.0",
            "grid_template_areas": null,
            "object_position": null,
            "object_fit": null,
            "grid_auto_columns": null,
            "margin": null,
            "display": null,
            "left": null
          }
        },
        "ef39a1168fe049a298d9b37a9944b673": {
          "model_module": "@jupyter-widgets/controls",
          "model_name": "ProgressStyleModel",
          "model_module_version": "1.5.0",
          "state": {
            "_view_name": "StyleView",
            "_model_name": "ProgressStyleModel",
            "description_width": "",
            "_view_module": "@jupyter-widgets/base",
            "_model_module_version": "1.5.0",
            "_view_count": null,
            "_view_module_version": "1.2.0",
            "bar_color": null,
            "_model_module": "@jupyter-widgets/controls"
          }
        },
        "638d2d05f83c415281ed090de3a480b6": {
          "model_module": "@jupyter-widgets/base",
          "model_name": "LayoutModel",
          "model_module_version": "1.2.0",
          "state": {
            "_view_name": "LayoutView",
            "grid_template_rows": null,
            "right": null,
            "justify_content": null,
            "_view_module": "@jupyter-widgets/base",
            "overflow": null,
            "_model_module_version": "1.2.0",
            "_view_count": null,
            "flex_flow": null,
            "width": null,
            "min_width": null,
            "border": null,
            "align_items": null,
            "bottom": null,
            "_model_module": "@jupyter-widgets/base",
            "top": null,
            "grid_column": null,
            "overflow_y": null,
            "overflow_x": null,
            "grid_auto_flow": null,
            "grid_area": null,
            "grid_template_columns": null,
            "flex": null,
            "_model_name": "LayoutModel",
            "justify_items": null,
            "grid_row": null,
            "max_height": null,
            "align_content": null,
            "visibility": null,
            "align_self": null,
            "height": null,
            "min_height": null,
            "padding": null,
            "grid_auto_rows": null,
            "grid_gap": null,
            "max_width": null,
            "order": null,
            "_view_module_version": "1.2.0",
            "grid_template_areas": null,
            "object_position": null,
            "object_fit": null,
            "grid_auto_columns": null,
            "margin": null,
            "display": null,
            "left": null
          }
        },
        "b4cfdae94e0a46cc89bf220e2c5041d8": {
          "model_module": "@jupyter-widgets/controls",
          "model_name": "DescriptionStyleModel",
          "model_module_version": "1.5.0",
          "state": {
            "_view_name": "StyleView",
            "_model_name": "DescriptionStyleModel",
            "description_width": "",
            "_view_module": "@jupyter-widgets/base",
            "_model_module_version": "1.5.0",
            "_view_count": null,
            "_view_module_version": "1.2.0",
            "_model_module": "@jupyter-widgets/controls"
          }
        },
        "9423972d8d334ed8afd3315594a1639d": {
          "model_module": "@jupyter-widgets/base",
          "model_name": "LayoutModel",
          "model_module_version": "1.2.0",
          "state": {
            "_view_name": "LayoutView",
            "grid_template_rows": null,
            "right": null,
            "justify_content": null,
            "_view_module": "@jupyter-widgets/base",
            "overflow": null,
            "_model_module_version": "1.2.0",
            "_view_count": null,
            "flex_flow": null,
            "width": null,
            "min_width": null,
            "border": null,
            "align_items": null,
            "bottom": null,
            "_model_module": "@jupyter-widgets/base",
            "top": null,
            "grid_column": null,
            "overflow_y": null,
            "overflow_x": null,
            "grid_auto_flow": null,
            "grid_area": null,
            "grid_template_columns": null,
            "flex": null,
            "_model_name": "LayoutModel",
            "justify_items": null,
            "grid_row": null,
            "max_height": null,
            "align_content": null,
            "visibility": null,
            "align_self": null,
            "height": null,
            "min_height": null,
            "padding": null,
            "grid_auto_rows": null,
            "grid_gap": null,
            "max_width": null,
            "order": null,
            "_view_module_version": "1.2.0",
            "grid_template_areas": null,
            "object_position": null,
            "object_fit": null,
            "grid_auto_columns": null,
            "margin": null,
            "display": null,
            "left": null
          }
        }
      }
    }
  },
  "cells": [
    {
      "cell_type": "markdown",
      "metadata": {
        "id": "view-in-github",
        "colab_type": "text"
      },
      "source": [
        "<a href=\"https://colab.research.google.com/github/Papadopoulos18/Fashion-Mnist-with-CNN-Pytorch/blob/main/Fashion_Mnist_with_Pytorch.ipynb\" target=\"_parent\"><img src=\"https://colab.research.google.com/assets/colab-badge.svg\" alt=\"Open In Colab\"/></a>"
      ]
    },
    {
      "cell_type": "code",
      "execution_count": null,
      "metadata": {
        "id": "chu3PoTsAlLW"
      },
      "outputs": [],
      "source": [
        "import torch \n",
        "import torch.nn as nn\n",
        "import torchvision\n",
        "import torchvision.transforms as transforms\n",
        "import numpy as np\n",
        "import matplotlib.pyplot as plt\n",
        "from datetime import datetime"
      ]
    },
    {
      "cell_type": "markdown",
      "source": [
        "#load the data"
      ],
      "metadata": {
        "id": "hn7yPeczCh6B"
      }
    },
    {
      "cell_type": "code",
      "source": [
        "train_dataset = torchvision.datasets.FashionMNIST(\n",
        "    root = '.',\n",
        "    train = True,\n",
        "    transform=transforms.ToTensor(),                      #here it changes from (0,255) to (0,1)\n",
        "    download=True\n",
        ")"
      ],
      "metadata": {
        "id": "P-xPfSimBizB",
        "colab": {
          "base_uri": "https://localhost:8080/",
          "height": 422,
          "referenced_widgets": [
            "659e7c939b5b460ca85bfefd8191f56d",
            "b7e0f1666b044305803737ef52fd9cc2",
            "726d0a3beaff4043bb10d0b3a8c80c9f",
            "3919b312cd3d46ff9d4098a2bd9372da",
            "25c56a27722b47078b1d142d9f2dabaa",
            "668625c0545d4abaa18a983abdf5cab5",
            "d1072bd2b41a4ffb968e2073d36d78ff",
            "436fd5072a8142989e230724bf5ce027",
            "1d2bdce6fb944dbeb8e2e9784da2c119",
            "62df500e7bb64e5099cbf8b644b7ad23",
            "b639c809a7ca4c71a9d588bc3d4d7950",
            "2598c0b7b95f4375b26cbca304221c32",
            "27f9dc5ce6394b3eb2d6d691328aadae",
            "d5eb2fa6c4fc426283238d12cf23aeac",
            "d3dcd309988640e497cf5689269cdba8",
            "ea61877beacf488d8c80f4a727b6fc10",
            "0221df75a1d74636a928e3e0bb30e10c",
            "a9378abf9c2046109b74a210f4b4a407",
            "8f117c59f24e4888ad9e740ff89aa035",
            "be886c090d254473b5ab9e1a4555d686",
            "06fb69ad19704afdbc697b0723e29bed",
            "3eab41c8c9614e35860241534f777f62",
            "cdee90d117c7484a8328a9a5f72d8be8",
            "faca0781f37c4dbf9fa9ec13fb71c422",
            "215970e6e82941568c34a622e1b1c620",
            "b7c944f2ea80456aa1534d2aa771a40d",
            "c5df9d73b47a4c50ad5d470723874ca9",
            "2f067a5f695e477591c1204d8e678270",
            "8b8e4b32b2e5450ca3af0e3092fdc90b",
            "53bca34fb1e54eb7857edb9b60adc983",
            "5bda1f1ae29d40a88286c1f960e491de",
            "eb0ad9be0c6944ada4661f50bc2234bb",
            "24880adca2654607868a9036b8f42506",
            "20e43b1904e7462989500178989e0c1f",
            "b268d7ccfc004eeb95d94b22b5ccd87c",
            "6f5f38a3f29548e0b0f80874e24191a5",
            "22fe896365514b0fbf654969d572263f",
            "7a05f709bb7440b2b9c6ef941a970fe9",
            "5d595691625e4276bc8ded6530c33be3",
            "822e00c2af234b9ba8da51ffe623ce12",
            "ef39a1168fe049a298d9b37a9944b673",
            "638d2d05f83c415281ed090de3a480b6",
            "b4cfdae94e0a46cc89bf220e2c5041d8",
            "9423972d8d334ed8afd3315594a1639d"
          ]
        },
        "outputId": "4b5eca87-1466-4e9f-e9a7-fe86d5c60ae6"
      },
      "execution_count": null,
      "outputs": [
        {
          "output_type": "stream",
          "name": "stdout",
          "text": [
            "Downloading http://fashion-mnist.s3-website.eu-central-1.amazonaws.com/train-images-idx3-ubyte.gz\n",
            "Downloading http://fashion-mnist.s3-website.eu-central-1.amazonaws.com/train-images-idx3-ubyte.gz to ./FashionMNIST/raw/train-images-idx3-ubyte.gz\n"
          ]
        },
        {
          "output_type": "display_data",
          "data": {
            "application/vnd.jupyter.widget-view+json": {
              "model_id": "659e7c939b5b460ca85bfefd8191f56d",
              "version_minor": 0,
              "version_major": 2
            },
            "text/plain": [
              "  0%|          | 0/26421880 [00:00<?, ?it/s]"
            ]
          },
          "metadata": {}
        },
        {
          "output_type": "stream",
          "name": "stdout",
          "text": [
            "Extracting ./FashionMNIST/raw/train-images-idx3-ubyte.gz to ./FashionMNIST/raw\n",
            "\n",
            "Downloading http://fashion-mnist.s3-website.eu-central-1.amazonaws.com/train-labels-idx1-ubyte.gz\n",
            "Downloading http://fashion-mnist.s3-website.eu-central-1.amazonaws.com/train-labels-idx1-ubyte.gz to ./FashionMNIST/raw/train-labels-idx1-ubyte.gz\n"
          ]
        },
        {
          "output_type": "display_data",
          "data": {
            "application/vnd.jupyter.widget-view+json": {
              "model_id": "2598c0b7b95f4375b26cbca304221c32",
              "version_minor": 0,
              "version_major": 2
            },
            "text/plain": [
              "  0%|          | 0/29515 [00:00<?, ?it/s]"
            ]
          },
          "metadata": {}
        },
        {
          "output_type": "stream",
          "name": "stdout",
          "text": [
            "Extracting ./FashionMNIST/raw/train-labels-idx1-ubyte.gz to ./FashionMNIST/raw\n",
            "\n",
            "Downloading http://fashion-mnist.s3-website.eu-central-1.amazonaws.com/t10k-images-idx3-ubyte.gz\n",
            "Downloading http://fashion-mnist.s3-website.eu-central-1.amazonaws.com/t10k-images-idx3-ubyte.gz to ./FashionMNIST/raw/t10k-images-idx3-ubyte.gz\n"
          ]
        },
        {
          "output_type": "display_data",
          "data": {
            "application/vnd.jupyter.widget-view+json": {
              "model_id": "cdee90d117c7484a8328a9a5f72d8be8",
              "version_minor": 0,
              "version_major": 2
            },
            "text/plain": [
              "  0%|          | 0/4422102 [00:00<?, ?it/s]"
            ]
          },
          "metadata": {}
        },
        {
          "output_type": "stream",
          "name": "stdout",
          "text": [
            "Extracting ./FashionMNIST/raw/t10k-images-idx3-ubyte.gz to ./FashionMNIST/raw\n",
            "\n",
            "Downloading http://fashion-mnist.s3-website.eu-central-1.amazonaws.com/t10k-labels-idx1-ubyte.gz\n",
            "Downloading http://fashion-mnist.s3-website.eu-central-1.amazonaws.com/t10k-labels-idx1-ubyte.gz to ./FashionMNIST/raw/t10k-labels-idx1-ubyte.gz\n"
          ]
        },
        {
          "output_type": "display_data",
          "data": {
            "application/vnd.jupyter.widget-view+json": {
              "model_id": "20e43b1904e7462989500178989e0c1f",
              "version_minor": 0,
              "version_major": 2
            },
            "text/plain": [
              "  0%|          | 0/5148 [00:00<?, ?it/s]"
            ]
          },
          "metadata": {}
        },
        {
          "output_type": "stream",
          "name": "stdout",
          "text": [
            "Extracting ./FashionMNIST/raw/t10k-labels-idx1-ubyte.gz to ./FashionMNIST/raw\n",
            "\n"
          ]
        }
      ]
    },
    {
      "cell_type": "code",
      "source": [
        "train_dataset.data.max()"
      ],
      "metadata": {
        "colab": {
          "base_uri": "https://localhost:8080/"
        },
        "id": "yaS9kBpQDOdZ",
        "outputId": "014b75c0-ebce-45d3-daa2-a5c8dd3db4f4"
      },
      "execution_count": null,
      "outputs": [
        {
          "output_type": "execute_result",
          "data": {
            "text/plain": [
              "tensor(255, dtype=torch.uint8)"
            ]
          },
          "metadata": {},
          "execution_count": 3
        }
      ]
    },
    {
      "cell_type": "code",
      "source": [
        "train_dataset.data.shape"
      ],
      "metadata": {
        "colab": {
          "base_uri": "https://localhost:8080/"
        },
        "id": "89I6RpcvDyb7",
        "outputId": "4d0d85ef-b135-48df-8dd6-327c203cee14"
      },
      "execution_count": null,
      "outputs": [
        {
          "output_type": "execute_result",
          "data": {
            "text/plain": [
              "torch.Size([60000, 28, 28])"
            ]
          },
          "metadata": {},
          "execution_count": 4
        }
      ]
    },
    {
      "cell_type": "code",
      "source": [
        "train_dataset.targets"
      ],
      "metadata": {
        "colab": {
          "base_uri": "https://localhost:8080/"
        },
        "id": "60Zfn4SxFGJA",
        "outputId": "2ed609ee-ad79-42ec-9b8e-28b2986c8822"
      },
      "execution_count": null,
      "outputs": [
        {
          "output_type": "execute_result",
          "data": {
            "text/plain": [
              "tensor([9, 0, 0,  ..., 3, 0, 5])"
            ]
          },
          "metadata": {},
          "execution_count": 5
        }
      ]
    },
    {
      "cell_type": "code",
      "source": [
        "test_dataset = torchvision.datasets.FashionMNIST(\n",
        "    root = '.',\n",
        "    train = False,\n",
        "    transform=transforms.ToTensor(),\n",
        "    download=True\n",
        ")"
      ],
      "metadata": {
        "id": "1ElB11GAFKVz"
      },
      "execution_count": null,
      "outputs": []
    },
    {
      "cell_type": "code",
      "source": [
        "test_dataset.data.shape"
      ],
      "metadata": {
        "colab": {
          "base_uri": "https://localhost:8080/"
        },
        "id": "EIeNN_P1GBuh",
        "outputId": "008d8255-4d92-4ead-c4ff-f9ea9c65a219"
      },
      "execution_count": null,
      "outputs": [
        {
          "output_type": "execute_result",
          "data": {
            "text/plain": [
              "torch.Size([10000, 28, 28])"
            ]
          },
          "metadata": {},
          "execution_count": 7
        }
      ]
    },
    {
      "cell_type": "markdown",
      "source": [
        "number of classes"
      ],
      "metadata": {
        "id": "w3axhqkmGXzF"
      }
    },
    {
      "cell_type": "code",
      "source": [
        "K = len(set(train_dataset.targets.numpy()))     #train_dataset.targets->60000x1, .numpy->array([60000x1]),set->dict{0 to 9}\n",
        "print(f'Number of classes are: {K}')"
      ],
      "metadata": {
        "colab": {
          "base_uri": "https://localhost:8080/"
        },
        "id": "KSGbStoHGFew",
        "outputId": "8c7ab270-75c6-4c2b-d94a-c9b2c4f9066b"
      },
      "execution_count": null,
      "outputs": [
        {
          "output_type": "stream",
          "name": "stdout",
          "text": [
            "Number of classes are: 10\n"
          ]
        }
      ]
    },
    {
      "cell_type": "markdown",
      "source": [
        "#Define the model"
      ],
      "metadata": {
        "id": "z8GDEqxgICbP"
      }
    },
    {
      "cell_type": "code",
      "source": [
        "from torch.nn.modules.activation import ReLU\n",
        "from torch.nn.modules.linear import Linear\n",
        "from torch.nn.modules import dropout\n",
        "from torch.nn.modules.container import Sequential\n",
        "class CNN(nn.Module):\n",
        "  def __init__(self, K):\n",
        "      super(CNN, self).__init__()\n",
        "      self.conv_layers = nn.Sequential(\n",
        "          nn.Conv2d(in_channels=1, out_channels=32, kernel_size=3, stride=2),\n",
        "          nn.ReLU(),\n",
        "          nn.Conv2d(in_channels=32, out_channels=64, kernel_size=3, stride=2),\n",
        "          nn.ReLU(),\n",
        "          nn.Conv2d(in_channels=64, out_channels=128, kernel_size=3, stride=2),\n",
        "          nn.ReLU()\n",
        "      )\n",
        "\n",
        "      \n",
        "      self.dense_layers = nn.Sequential(\n",
        "          nn.Dropout(0.2),\n",
        "          nn.Linear(128*2*2, 512),                  #2x2 ειναι τα spatial dimensions της εικονας απο το τελευταιο conv (O = flour((W-F+2P)/S + 1)), W=in, F=filter, P=pad, S=stride\n",
        "          nn.ReLU(),\n",
        "          nn.Dropout(0.2),\n",
        "          nn.Linear(512, K)\n",
        "      )\n",
        "      \n",
        "  def forward(self, X):\n",
        "    out = self.conv_layers(X)\n",
        "    out = out.view(out.size(0), -1)               #out.size(0) -> batch size\n",
        "    out = self.dense_layers(out)\n",
        "    return out \n",
        "\n",
        "\n",
        "# instantiate the model\n",
        "model = CNN(K)\n",
        "\n"
      ],
      "metadata": {
        "id": "g1fgtQdrHgVD"
      },
      "execution_count": null,
      "outputs": []
    },
    {
      "cell_type": "markdown",
      "source": [
        "# OR only with Sequential\n",
        "\n",
        "\n",
        "```\n",
        "# model = nn.Sequential(\n",
        "          nn.Conv2d(in_channels=1, out_channels=32, kernel_size=3, stride=2),\n",
        "          nn.ReLU(),\n",
        "          nn.Conv2d(in_channels=32, out_channels=64, kernel_size=3, stride=2),\n",
        "          nn.ReLU(),\n",
        "          nn.Conv2d(in_channels=64, out_channels=128, kernel_size=3, stride=2),\n",
        "          nn.ReLU(),\n",
        "          nn.Flatten(),\n",
        "          nn.Dropout(0.3),\n",
        "          nn.Linear(63, 512),\n",
        "          nn.ReLU(),\n",
        "          nn.Dropout(0.3),\n",
        "          nn.Linear(512, K)\n",
        "\n",
        ")\n",
        "```\n",
        "\n",
        "\n"
      ],
      "metadata": {
        "id": "RlYZXIjcQhyx"
      }
    },
    {
      "cell_type": "markdown",
      "source": [
        "#move the model to the GPU"
      ],
      "metadata": {
        "id": "h28SMsA9RWI3"
      }
    },
    {
      "cell_type": "code",
      "source": [
        "device = torch.device(\"cuda:0\" if torch.cuda.is_available() else \"cpu\")\n",
        "print(device)\n",
        "model.to(device)"
      ],
      "metadata": {
        "colab": {
          "base_uri": "https://localhost:8080/"
        },
        "id": "eehi6zpSRVxe",
        "outputId": "4e19ad0b-8f52-4dc2-f6f4-b65e7d66e2ee"
      },
      "execution_count": null,
      "outputs": [
        {
          "output_type": "stream",
          "name": "stdout",
          "text": [
            "cuda:0\n"
          ]
        },
        {
          "output_type": "execute_result",
          "data": {
            "text/plain": [
              "CNN(\n",
              "  (conv_layers): Sequential(\n",
              "    (0): Conv2d(1, 32, kernel_size=(3, 3), stride=(2, 2))\n",
              "    (1): ReLU()\n",
              "    (2): Conv2d(32, 64, kernel_size=(3, 3), stride=(2, 2))\n",
              "    (3): ReLU()\n",
              "    (4): Conv2d(64, 128, kernel_size=(3, 3), stride=(2, 2))\n",
              "    (5): ReLU()\n",
              "  )\n",
              "  (dense_layers): Sequential(\n",
              "    (0): Dropout(p=0.2, inplace=False)\n",
              "    (1): Linear(in_features=512, out_features=512, bias=True)\n",
              "    (2): ReLU()\n",
              "    (3): Dropout(p=0.2, inplace=False)\n",
              "    (4): Linear(in_features=512, out_features=10, bias=True)\n",
              "  )\n",
              ")"
            ]
          },
          "metadata": {},
          "execution_count": 10
        }
      ]
    },
    {
      "cell_type": "markdown",
      "source": [
        "#loss and optimizer"
      ],
      "metadata": {
        "id": "ublxnYVzSZwX"
      }
    },
    {
      "cell_type": "code",
      "source": [
        "criterion = nn.CrossEntropyLoss()\n",
        "optimizer = torch.optim.Adam(model.parameters())"
      ],
      "metadata": {
        "id": "KpmUFb2-Ie0q"
      },
      "execution_count": null,
      "outputs": []
    },
    {
      "cell_type": "markdown",
      "source": [
        "#Data loader\n",
        "useful because it automatically generates batches in the training loop and takes care of shuffling"
      ],
      "metadata": {
        "id": "tLz5cAn1S7gg"
      }
    },
    {
      "cell_type": "code",
      "source": [
        "batch_size = 128\n",
        "train_loader = torch.utils.data.DataLoader(\n",
        "    dataset=train_dataset,\n",
        "    batch_size=batch_size,\n",
        "    shuffle=True\n",
        ")\n",
        "\n",
        "test_loader = torch.utils.data.DataLoader(\n",
        "    dataset=test_dataset,\n",
        "    batch_size=batch_size,\n",
        "    shuffle=False\n",
        ")"
      ],
      "metadata": {
        "id": "Wlxnx1KHQCut"
      },
      "execution_count": null,
      "outputs": []
    },
    {
      "cell_type": "code",
      "source": [
        "train_dataset.data.shape"
      ],
      "metadata": {
        "colab": {
          "base_uri": "https://localhost:8080/"
        },
        "id": "v0DogkF3SqUO",
        "outputId": "a4917595-b87f-4c8b-8b2e-0e1fadd25c70"
      },
      "execution_count": null,
      "outputs": [
        {
          "output_type": "execute_result",
          "data": {
            "text/plain": [
              "torch.Size([60000, 28, 28])"
            ]
          },
          "metadata": {},
          "execution_count": 17
        }
      ]
    },
    {
      "cell_type": "markdown",
      "source": [
        "#Training"
      ],
      "metadata": {
        "id": "Wlok9WWDT064"
      }
    },
    {
      "cell_type": "code",
      "source": [
        "def batch_gd(model, criterion, optimizer, train_loader, test_loader, epochs): \n",
        "  train_losses = np.zeros(epochs)\n",
        "  test_losses = np.zeros(epochs)\n",
        "\n",
        "  for it in range(epochs):\n",
        "    tO = datetime.now()\n",
        "    train_loss = []\n",
        "    i = 0\n",
        "    for inputs, targets in train_loader:\n",
        "\n",
        "      i += 1\n",
        "      # move data to GPU\n",
        "      inputs, targets = inputs.to(device), targets.to(device)\n",
        "\n",
        "      # zero the parameter gradient\n",
        "      optimizer.zero_grad()\n",
        "\n",
        "      #forward pass\n",
        "      outputs = model(inputs)\n",
        "      loss = criterion(outputs, targets)\n",
        "\n",
        "      # backward and optimize\n",
        "      loss.backward()\n",
        "      optimizer.step()\n",
        "\n",
        "      train_loss.append(loss.item())\n",
        "    print(f'Nun of for(itarations): {i}')                                                         #how many itarations\n",
        "\n",
        "    print(f'------{len(train_loss)}-------------------')                      # 469 losses οσα και τα itarations δλδ(469 φορες περναει το batch των 128)\n",
        "    # get train loss and test loss\n",
        "    train_loss = np.mean(train_loss)\n",
        "\n",
        "    test_loss = []\n",
        "    for inputs, targets in test_loader:\n",
        "        # move data to GPU\n",
        "        inputs, targets = inputs.to(device), targets.to(device)\n",
        "        outputs = model(inputs)\n",
        "        loss = criterion(outputs, targets)\n",
        "        test_loss.append(loss.item())\n",
        "    test_loss = np.mean(test_loss)\n",
        "\n",
        "    # save losses\n",
        "    train_losses[it] = train_loss\n",
        "    test_losses[it] = test_loss\n",
        "\n",
        "    dt = datetime.now() - tO\n",
        "    print(f'Epoch {it + 1}/{epochs}, Train Loss: {train_loss: .4f}, \\\n",
        "    Test Loss: {test_loss: .4f}, duration: {dt}')\n",
        "\n",
        "  return train_losses, test_losses\n",
        "\n",
        "\n",
        "train_losses, test_losses = batch_gd(\n",
        "    model, criterion, optimizer, train_loader, test_loader, epochs=1) \n",
        "\n"
      ],
      "metadata": {
        "colab": {
          "base_uri": "https://localhost:8080/"
        },
        "id": "Aos6FHa-TwHI",
        "outputId": "58fc9771-102a-4aba-d9f5-3bfb32a4a73f"
      },
      "execution_count": null,
      "outputs": [
        {
          "output_type": "stream",
          "name": "stdout",
          "text": [
            "Nun of for: 469\n",
            "------469-------------------\n",
            "Epoch 1/1, Train Loss:  0.2723,     Test Loss:  0.3249, duration: 0:00:13.893220\n"
          ]
        }
      ]
    },
    {
      "cell_type": "markdown",
      "source": [
        "plot train loss and test loss per iteration\n"
      ],
      "metadata": {
        "id": "wK8pw0Cvdqjo"
      }
    },
    {
      "cell_type": "code",
      "source": [
        "plt.plot(train_losses, label= 'train loss')\n",
        "plt.plot(test_losses, label= 'test loss')\n",
        "plt.legend()\n",
        "plt.show()\n"
      ],
      "metadata": {
        "colab": {
          "base_uri": "https://localhost:8080/",
          "height": 265
        },
        "id": "34Ag4SzIUYkF",
        "outputId": "2086eb85-9d21-4ed0-b686-4d6aa2c03c2a"
      },
      "execution_count": null,
      "outputs": [
        {
          "output_type": "display_data",
          "data": {
            "image/png": "[encoded data removed]",
            "text/plain": [
              "<Figure size 432x288 with 1 Axes>"
            ]
          },
          "metadata": {
            "needs_background": "light"
          }
        }
      ]
    },
    {
      "cell_type": "markdown",
      "source": [
        "# Accuracy"
      ],
      "metadata": {
        "id": "n3bIJTBKeORZ"
      }
    },
    {
      "cell_type": "code",
      "source": [
        "n_correct = 0.\n",
        "n_total = 0.\n",
        "i=0\n",
        "\n",
        "for inputs, targets in train_loader:\n",
        "  i+=1\n",
        "  # move the data to GPU\n",
        "  inputs, targets = inputs.to(device), targets.to(device)\n",
        "  if (i==1):\n",
        "    print(inputs.shape)\n",
        "  # forward pass\n",
        "  outputs = model(inputs)\n",
        "\n",
        "  # get predictions\n",
        "  # torch.max returns both max and argmax\n",
        "  _, predictions = torch.max(outputs, 1)\n",
        "\n",
        "  # update counts\n",
        "\n",
        "  n_correct += (predictions == targets).sum().item()\n",
        "  n_total += targets.shape[0]\n",
        "  # print(targets.shape[0])                                                       # 128 128 ... (468 φορες) ... 96\n",
        "  # print(n_correct, n_total)\n",
        "\n",
        "\n",
        "train_acc = n_correct/n_total\n",
        "# print(\"for \", i)\n",
        "# print(inputs.shape)\n",
        "# print(f'------{predictions.shape}--{outputs.shape}----{targets.shape}')       #96 γιατι ειναι το τελευταιο itaration(468*128 + 96(last for loop) = 60000)\n",
        "n_correct = 0\n",
        "n_total = 0\n",
        "\n",
        "for inputs, targets in test_loader:\n",
        "  inputs, targets = inputs.to(device), targets.to(device)\n",
        "\n",
        "  # forward pass\n",
        "  outputs = model(inputs)\n",
        "\n",
        "  _, predictions = torch.max(outputs, 1)\n",
        "\n",
        "  # update counts\n",
        "  n_correct += (predictions == targets).sum().item()\n",
        "  n_total += targets.shape[0]\n",
        "\n",
        "test_acc = n_correct/n_total\n",
        "\n",
        "print(f'Train acc: {train_acc: .4f}, Test acc: {test_acc: .4f}')\n",
        "\n",
        "\n",
        "  \n"
      ],
      "metadata": {
        "colab": {
          "base_uri": "https://localhost:8080/"
        },
        "id": "Jm-78cUOeBzO",
        "outputId": "29e4f6f3-0c1c-43c7-c750-c5c94533dffb"
      },
      "execution_count": null,
      "outputs": [
        {
          "output_type": "stream",
          "name": "stdout",
          "text": [
            "torch.Size([128, 1, 28, 28])\n",
            "117.0 128.0\n",
            "236.0 256.0\n",
            "348.0 384.0\n",
            "462.0 512.0\n",
            "580.0 640.0\n",
            "693.0 768.0\n",
            "808.0 896.0\n",
            "924.0 1024.0\n",
            "1039.0 1152.0\n",
            "1149.0 1280.0\n",
            "1267.0 1408.0\n",
            "1387.0 1536.0\n",
            "1506.0 1664.0\n",
            "1618.0 1792.0\n",
            "1729.0 1920.0\n",
            "1840.0 2048.0\n",
            "1952.0 2176.0\n",
            "2065.0 2304.0\n",
            "2183.0 2432.0\n",
            "2302.0 2560.0\n",
            "2409.0 2688.0\n",
            "2529.0 2816.0\n",
            "2648.0 2944.0\n",
            "2763.0 3072.0\n",
            "2880.0 3200.0\n",
            "2998.0 3328.0\n",
            "3106.0 3456.0\n",
            "3227.0 3584.0\n",
            "3343.0 3712.0\n",
            "3460.0 3840.0\n",
            "3577.0 3968.0\n",
            "3696.0 4096.0\n",
            "3814.0 4224.0\n",
            "3931.0 4352.0\n",
            "4047.0 4480.0\n",
            "4156.0 4608.0\n",
            "4275.0 4736.0\n",
            "4394.0 4864.0\n",
            "4514.0 4992.0\n",
            "4631.0 5120.0\n",
            "4749.0 5248.0\n",
            "4864.0 5376.0\n",
            "4982.0 5504.0\n",
            "5094.0 5632.0\n",
            "5211.0 5760.0\n",
            "5327.0 5888.0\n",
            "5445.0 6016.0\n",
            "5558.0 6144.0\n",
            "5677.0 6272.0\n",
            "5788.0 6400.0\n",
            "5906.0 6528.0\n",
            "6020.0 6656.0\n",
            "6135.0 6784.0\n",
            "6245.0 6912.0\n",
            "6360.0 7040.0\n",
            "6477.0 7168.0\n",
            "6597.0 7296.0\n",
            "6714.0 7424.0\n",
            "6832.0 7552.0\n",
            "6950.0 7680.0\n",
            "7069.0 7808.0\n",
            "7185.0 7936.0\n",
            "7294.0 8064.0\n",
            "7417.0 8192.0\n",
            "7538.0 8320.0\n",
            "7660.0 8448.0\n",
            "7779.0 8576.0\n",
            "7896.0 8704.0\n",
            "8015.0 8832.0\n",
            "8130.0 8960.0\n",
            "8247.0 9088.0\n",
            "8368.0 9216.0\n",
            "8482.0 9344.0\n",
            "8602.0 9472.0\n",
            "8713.0 9600.0\n",
            "8828.0 9728.0\n",
            "8948.0 9856.0\n",
            "9063.0 9984.0\n",
            "9182.0 10112.0\n",
            "9302.0 10240.0\n",
            "9419.0 10368.0\n",
            "9537.0 10496.0\n",
            "9650.0 10624.0\n",
            "9762.0 10752.0\n",
            "9872.0 10880.0\n",
            "9992.0 11008.0\n",
            "10106.0 11136.0\n",
            "10219.0 11264.0\n",
            "10336.0 11392.0\n",
            "10451.0 11520.0\n",
            "10571.0 11648.0\n",
            "10687.0 11776.0\n",
            "10801.0 11904.0\n",
            "10916.0 12032.0\n",
            "11036.0 12160.0\n",
            "11151.0 12288.0\n",
            "11266.0 12416.0\n",
            "11383.0 12544.0\n",
            "11498.0 12672.0\n",
            "11614.0 12800.0\n",
            "11735.0 12928.0\n",
            "11855.0 13056.0\n",
            "11971.0 13184.0\n",
            "12090.0 13312.0\n",
            "12200.0 13440.0\n",
            "12311.0 13568.0\n",
            "12427.0 13696.0\n",
            "12541.0 13824.0\n",
            "12661.0 13952.0\n",
            "12779.0 14080.0\n",
            "12894.0 14208.0\n",
            "13011.0 14336.0\n",
            "13118.0 14464.0\n",
            "13231.0 14592.0\n",
            "13345.0 14720.0\n",
            "13459.0 14848.0\n",
            "13577.0 14976.0\n",
            "13693.0 15104.0\n",
            "13814.0 15232.0\n",
            "13932.0 15360.0\n",
            "14051.0 15488.0\n",
            "14165.0 15616.0\n",
            "14278.0 15744.0\n",
            "14396.0 15872.0\n",
            "14511.0 16000.0\n",
            "14630.0 16128.0\n",
            "14746.0 16256.0\n",
            "14863.0 16384.0\n",
            "14974.0 16512.0\n",
            "15094.0 16640.0\n",
            "15208.0 16768.0\n",
            "15327.0 16896.0\n",
            "15441.0 17024.0\n",
            "15554.0 17152.0\n",
            "15666.0 17280.0\n",
            "15782.0 17408.0\n",
            "15898.0 17536.0\n",
            "16011.0 17664.0\n",
            "16123.0 17792.0\n",
            "16236.0 17920.0\n",
            "16356.0 18048.0\n",
            "16468.0 18176.0\n",
            "16580.0 18304.0\n",
            "16698.0 18432.0\n",
            "16813.0 18560.0\n",
            "16932.0 18688.0\n",
            "17053.0 18816.0\n",
            "17169.0 18944.0\n",
            "17286.0 19072.0\n",
            "17403.0 19200.0\n",
            "17515.0 19328.0\n",
            "17631.0 19456.0\n",
            "17749.0 19584.0\n",
            "17864.0 19712.0\n",
            "17979.0 19840.0\n",
            "18093.0 19968.0\n",
            "18206.0 20096.0\n",
            "18323.0 20224.0\n",
            "18440.0 20352.0\n",
            "18556.0 20480.0\n",
            "18675.0 20608.0\n",
            "18792.0 20736.0\n",
            "18907.0 20864.0\n",
            "19027.0 20992.0\n",
            "19144.0 21120.0\n",
            "19258.0 21248.0\n",
            "19367.0 21376.0\n",
            "19480.0 21504.0\n",
            "19593.0 21632.0\n",
            "19711.0 21760.0\n",
            "19831.0 21888.0\n",
            "19949.0 22016.0\n",
            "20062.0 22144.0\n",
            "20176.0 22272.0\n",
            "20296.0 22400.0\n",
            "20418.0 22528.0\n",
            "20538.0 22656.0\n",
            "20656.0 22784.0\n",
            "20776.0 22912.0\n",
            "20890.0 23040.0\n",
            "21009.0 23168.0\n",
            "21126.0 23296.0\n",
            "21248.0 23424.0\n",
            "21364.0 23552.0\n",
            "21483.0 23680.0\n",
            "21595.0 23808.0\n",
            "21710.0 23936.0\n",
            "21820.0 24064.0\n",
            "21933.0 24192.0\n",
            "22049.0 24320.0\n",
            "22165.0 24448.0\n",
            "22284.0 24576.0\n",
            "22407.0 24704.0\n",
            "22522.0 24832.0\n",
            "22643.0 24960.0\n",
            "22760.0 25088.0\n",
            "22879.0 25216.0\n",
            "22992.0 25344.0\n",
            "23107.0 25472.0\n",
            "23220.0 25600.0\n",
            "23339.0 25728.0\n",
            "23456.0 25856.0\n",
            "23573.0 25984.0\n",
            "23684.0 26112.0\n",
            "23798.0 26240.0\n",
            "23909.0 26368.0\n",
            "24022.0 26496.0\n",
            "24138.0 26624.0\n",
            "24252.0 26752.0\n",
            "24371.0 26880.0\n",
            "24486.0 27008.0\n",
            "24604.0 27136.0\n",
            "24722.0 27264.0\n",
            "24835.0 27392.0\n",
            "24948.0 27520.0\n",
            "25071.0 27648.0\n",
            "25183.0 27776.0\n",
            "25289.0 27904.0\n",
            "25407.0 28032.0\n",
            "25523.0 28160.0\n",
            "25640.0 28288.0\n",
            "25753.0 28416.0\n",
            "25872.0 28544.0\n",
            "25987.0 28672.0\n",
            "26108.0 28800.0\n",
            "26224.0 28928.0\n",
            "26343.0 29056.0\n",
            "26461.0 29184.0\n",
            "26581.0 29312.0\n",
            "26695.0 29440.0\n",
            "26809.0 29568.0\n",
            "26930.0 29696.0\n",
            "27047.0 29824.0\n",
            "27167.0 29952.0\n",
            "27279.0 30080.0\n",
            "27398.0 30208.0\n",
            "27514.0 30336.0\n",
            "27635.0 30464.0\n",
            "27751.0 30592.0\n",
            "27869.0 30720.0\n",
            "27983.0 30848.0\n",
            "28100.0 30976.0\n",
            "28216.0 31104.0\n",
            "28333.0 31232.0\n",
            "28449.0 31360.0\n",
            "28562.0 31488.0\n",
            "28674.0 31616.0\n",
            "28791.0 31744.0\n",
            "28905.0 31872.0\n",
            "29023.0 32000.0\n",
            "29142.0 32128.0\n",
            "29253.0 32256.0\n",
            "29366.0 32384.0\n",
            "29486.0 32512.0\n",
            "29597.0 32640.0\n",
            "29712.0 32768.0\n",
            "29826.0 32896.0\n",
            "29945.0 33024.0\n",
            "30064.0 33152.0\n",
            "30184.0 33280.0\n",
            "30303.0 33408.0\n",
            "30419.0 33536.0\n",
            "30537.0 33664.0\n",
            "30653.0 33792.0\n",
            "30771.0 33920.0\n",
            "30892.0 34048.0\n",
            "31004.0 34176.0\n",
            "31119.0 34304.0\n",
            "31235.0 34432.0\n",
            "31351.0 34560.0\n",
            "31467.0 34688.0\n",
            "31589.0 34816.0\n",
            "31703.0 34944.0\n",
            "31819.0 35072.0\n",
            "31940.0 35200.0\n",
            "32055.0 35328.0\n",
            "32173.0 35456.0\n",
            "32284.0 35584.0\n",
            "32400.0 35712.0\n",
            "32512.0 35840.0\n",
            "32630.0 35968.0\n",
            "32748.0 36096.0\n",
            "32869.0 36224.0\n",
            "32990.0 36352.0\n",
            "33103.0 36480.0\n",
            "33219.0 36608.0\n",
            "33333.0 36736.0\n",
            "33446.0 36864.0\n",
            "33558.0 36992.0\n",
            "33669.0 37120.0\n",
            "33787.0 37248.0\n",
            "33899.0 37376.0\n",
            "34017.0 37504.0\n",
            "34128.0 37632.0\n",
            "34240.0 37760.0\n",
            "34356.0 37888.0\n",
            "34467.0 38016.0\n",
            "34585.0 38144.0\n",
            "34701.0 38272.0\n",
            "34817.0 38400.0\n",
            "34929.0 38528.0\n",
            "35041.0 38656.0\n",
            "35152.0 38784.0\n",
            "35271.0 38912.0\n",
            "35381.0 39040.0\n",
            "35497.0 39168.0\n",
            "35615.0 39296.0\n",
            "35730.0 39424.0\n",
            "35844.0 39552.0\n",
            "35959.0 39680.0\n",
            "36076.0 39808.0\n",
            "36190.0 39936.0\n",
            "36307.0 40064.0\n",
            "36421.0 40192.0\n",
            "36535.0 40320.0\n",
            "36647.0 40448.0\n",
            "36761.0 40576.0\n",
            "36877.0 40704.0\n",
            "36996.0 40832.0\n",
            "37110.0 40960.0\n",
            "37230.0 41088.0\n",
            "37348.0 41216.0\n",
            "37463.0 41344.0\n",
            "37579.0 41472.0\n",
            "37699.0 41600.0\n",
            "37819.0 41728.0\n",
            "37936.0 41856.0\n",
            "38048.0 41984.0\n",
            "38166.0 42112.0\n",
            "38279.0 42240.0\n",
            "38394.0 42368.0\n",
            "38512.0 42496.0\n",
            "38629.0 42624.0\n",
            "38746.0 42752.0\n",
            "38865.0 42880.0\n",
            "38979.0 43008.0\n",
            "39095.0 43136.0\n",
            "39213.0 43264.0\n",
            "39327.0 43392.0\n",
            "39446.0 43520.0\n",
            "39564.0 43648.0\n",
            "39683.0 43776.0\n",
            "39795.0 43904.0\n",
            "39912.0 44032.0\n",
            "40023.0 44160.0\n",
            "40143.0 44288.0\n",
            "40263.0 44416.0\n",
            "40384.0 44544.0\n",
            "40502.0 44672.0\n",
            "40620.0 44800.0\n",
            "40737.0 44928.0\n",
            "40856.0 45056.0\n",
            "40974.0 45184.0\n",
            "41091.0 45312.0\n",
            "41212.0 45440.0\n",
            "41322.0 45568.0\n",
            "41442.0 45696.0\n",
            "41559.0 45824.0\n",
            "41676.0 45952.0\n",
            "41788.0 46080.0\n",
            "41902.0 46208.0\n",
            "42021.0 46336.0\n",
            "42138.0 46464.0\n",
            "42253.0 46592.0\n",
            "42373.0 46720.0\n",
            "42488.0 46848.0\n",
            "42601.0 46976.0\n",
            "42717.0 47104.0\n",
            "42836.0 47232.0\n",
            "42951.0 47360.0\n",
            "43068.0 47488.0\n",
            "43187.0 47616.0\n",
            "43303.0 47744.0\n",
            "43416.0 47872.0\n",
            "43533.0 48000.0\n",
            "43656.0 48128.0\n",
            "43772.0 48256.0\n",
            "43882.0 48384.0\n",
            "43996.0 48512.0\n",
            "44109.0 48640.0\n",
            "44230.0 48768.0\n",
            "44345.0 48896.0\n",
            "44467.0 49024.0\n",
            "44583.0 49152.0\n",
            "44702.0 49280.0\n",
            "44819.0 49408.0\n",
            "44937.0 49536.0\n",
            "45054.0 49664.0\n",
            "45169.0 49792.0\n",
            "45286.0 49920.0\n",
            "45405.0 50048.0\n",
            "45521.0 50176.0\n",
            "45638.0 50304.0\n",
            "45760.0 50432.0\n",
            "45875.0 50560.0\n",
            "45991.0 50688.0\n",
            "46109.0 50816.0\n",
            "46224.0 50944.0\n",
            "46334.0 51072.0\n",
            "46441.0 51200.0\n",
            "46557.0 51328.0\n",
            "46673.0 51456.0\n",
            "46788.0 51584.0\n",
            "46900.0 51712.0\n",
            "47014.0 51840.0\n",
            "47129.0 51968.0\n",
            "47236.0 52096.0\n",
            "47349.0 52224.0\n",
            "47469.0 52352.0\n",
            "47587.0 52480.0\n",
            "47696.0 52608.0\n",
            "47808.0 52736.0\n",
            "47918.0 52864.0\n",
            "48034.0 52992.0\n",
            "48148.0 53120.0\n",
            "48268.0 53248.0\n",
            "48384.0 53376.0\n",
            "48501.0 53504.0\n",
            "48620.0 53632.0\n",
            "48741.0 53760.0\n",
            "48855.0 53888.0\n",
            "48977.0 54016.0\n",
            "49091.0 54144.0\n",
            "49200.0 54272.0\n",
            "49316.0 54400.0\n",
            "49437.0 54528.0\n",
            "49554.0 54656.0\n",
            "49673.0 54784.0\n",
            "49782.0 54912.0\n",
            "49901.0 55040.0\n",
            "50019.0 55168.0\n",
            "50131.0 55296.0\n",
            "50244.0 55424.0\n",
            "50356.0 55552.0\n",
            "50465.0 55680.0\n",
            "50585.0 55808.0\n",
            "50700.0 55936.0\n",
            "50817.0 56064.0\n",
            "50935.0 56192.0\n",
            "51052.0 56320.0\n",
            "51169.0 56448.0\n",
            "51288.0 56576.0\n",
            "51402.0 56704.0\n",
            "51515.0 56832.0\n",
            "51632.0 56960.0\n",
            "51747.0 57088.0\n",
            "51865.0 57216.0\n",
            "51975.0 57344.0\n",
            "52090.0 57472.0\n",
            "52204.0 57600.0\n",
            "52321.0 57728.0\n",
            "52436.0 57856.0\n",
            "52555.0 57984.0\n",
            "52674.0 58112.0\n",
            "52790.0 58240.0\n",
            "52905.0 58368.0\n",
            "53016.0 58496.0\n",
            "53130.0 58624.0\n",
            "53245.0 58752.0\n",
            "53359.0 58880.0\n",
            "53470.0 59008.0\n",
            "53580.0 59136.0\n",
            "53695.0 59264.0\n",
            "53815.0 59392.0\n",
            "53931.0 59520.0\n",
            "54044.0 59648.0\n",
            "54160.0 59776.0\n",
            "54277.0 59904.0\n",
            "54363.0 60000.0\n",
            "Train acc:  0.9061, Test acc:  0.8814\n"
          ]
        }
      ]
    },
    {
      "cell_type": "markdown",
      "source": [
        "#Confusion Matrix"
      ],
      "metadata": {
        "id": "2bXQpYi-8GU7"
      }
    },
    {
      "cell_type": "code",
      "source": [
        "from sklearn.metrics import confusion_matrix\n",
        "import itertools\n",
        "\n",
        "def plot_confusion_matrix(cm,\n",
        "                          classes,\n",
        "                          normalize=False,\n",
        "                          title='Confusion Matrix',\n",
        "                          cmap=plt.cm.Blues):\n",
        "  \n",
        "  # This function prints and plots the confusion matrix.\n",
        "  # Normalization can be applied by setting 'normalize=True'\n",
        "\n",
        "  if normalize:\n",
        "    cm = cm.astype('float') / (cm.sum(axis=1)[:, np.newaxis])\n",
        "    print('Normalize confusion Matrix')\n",
        "  else:\n",
        "    print('Confusion Matrix without normalization')\n",
        "\n",
        "  print(cm)\n",
        "\n",
        "  plt.imshow(cm, interpolation='nearest', cmap=cmap)\n",
        "  plt.title(title)\n",
        "  plt.colorbar()\n",
        "  tick_marks = np.arange(len(classes))\n",
        "  plt.xticks(tick_marks, classes, rotation=45)\n",
        "  plt.yticks(tick_marks, classes)\n",
        "\n",
        "  fmt = '.2f' if normalize else 'd'\n",
        "  thresh = cm.max() / 2.\n",
        "  for i, j in itertools.product(range(cm.shape[0]), range(cm.shape[1])):\n",
        "    plt.text(j, i, format(cm[i,j], fmt),\n",
        "             horizontalalignment=\"center\",\n",
        "             color=\"white\" if cm[i,j] > thresh else \"black\")\n",
        "    \n",
        "  \n",
        "  plt.tight_layout()\n",
        "  plt.ylabel('True label')\n",
        "  plt.xlabel('predicted label')\n",
        "  plt.show()\n",
        "\n",
        "\n",
        "# get all predictions in an array and plot confusion matrix\n",
        "\n",
        "x_test = test_dataset.data.numpy()\n",
        "y_test = test_dataset.targets.numpy()\n",
        "p_test = np.array([])\n",
        " \n",
        "for inputs, targets in test_loader:\n",
        "  # move date to GPU\n",
        "  inputs, targets = inputs.to(device), targets.to(device)\n",
        "\n",
        "  # forward pass\n",
        "  outputs = model(inputs)\n",
        "\n",
        "  # Get predictions\n",
        "  _, predictions = torch.max(outputs, 1)\n",
        "\n",
        "  # update p_test\n",
        "  p_test = np.concatenate((p_test, predictions.cpu().numpy()))\n",
        "\n",
        "cm = confusion_matrix(y_test, p_test)\n",
        "plot_confusion_matrix(cm, list(range(10)))"
      ],
      "metadata": {
        "colab": {
          "base_uri": "https://localhost:8080/",
          "height": 502
        },
        "id": "87uns8bpySC0",
        "outputId": "ca36bf35-604f-4b7c-b7c2-a523426fc217"
      },
      "execution_count": null,
      "outputs": [
        {
          "output_type": "stream",
          "name": "stdout",
          "text": [
            "Confusion Matrix without normalization\n",
            "[[855   1  32  15   1   2  82   0  12   0]\n",
            " [  5 973   0  16   1   0   2   0   3   0]\n",
            " [ 13   2 852   9  29   0  87   0   8   0]\n",
            " [ 23   6  18 903  24   0  24   0   2   0]\n",
            " [  0   1 108  39 733   0 114   0   5   0]\n",
            " [  1   0   0   1   0 970   0  16   4   8]\n",
            " [147   0  74  23  70   0 667   0  19   0]\n",
            " [  0   0   0   0   0  13   0 949   0  38]\n",
            " [  1   0   4   2   1   1   8   3 980   0]\n",
            " [  1   0   0   0   0   6   0  34   1 958]]\n"
          ]
        },
        {
          "output_type": "display_data",
          "data": {
            "image/png": "[encoded data removed]",
            "text/plain": [
              "<Figure size 432x288 with 2 Axes>"
            ]
          },
          "metadata": {
            "needs_background": "light"
          }
        }
      ]
    },
    {
      "cell_type": "code",
      "source": [
        "# label mapping \n",
        "labels = '''T-shirt,\n",
        "Trouser,\n",
        "Pullover,\n",
        "Dress,\n",
        "Coat,\n",
        "Sandal,\n",
        "Shirt,\n",
        "Sneaker,\n",
        "Bag,\n",
        "Ankle boot'''.split(\"\\n\")\n"
      ],
      "metadata": {
        "id": "xrX0QeTn1k5C"
      },
      "execution_count": null,
      "outputs": []
    },
    {
      "cell_type": "code",
      "source": [
        "# show some misclassified examples\n",
        "\n",
        "p_test = p_test.astype(np.uint8)\n",
        "misclassified_idx = np.where(p_test != y_test)[0]\n",
        "i = np.random.choice(misclassified_idx)\n",
        "plt.imshow(x_test[i].reshape(28,28), cmap=\"gray\")\n",
        "plt.title(\"true label: %s  predicted %s\" % (labels[y_test[i]], labels[p_test[i]]));"
      ],
      "metadata": {
        "colab": {
          "base_uri": "https://localhost:8080/",
          "height": 281
        },
        "id": "tByPhBDeDQn4",
        "outputId": "c85c58c5-d0c4-4e7e-9465-50bdb50f2f0e"
      },
      "execution_count": null,
      "outputs": [
        {
          "output_type": "display_data",
          "data": {
            "image/png": "[encoded data removed]",
            "text/plain": [
              "<Figure size 432x288 with 1 Axes>"
            ]
          },
          "metadata": {
            "needs_background": "light"
          }
        }
      ]
    },
    {
      "cell_type": "code",
      "source": [
        ""
      ],
      "metadata": {
        "id": "t0PmI9OaDSDw"
      },
      "execution_count": null,
      "outputs": []
    }
  ]
}